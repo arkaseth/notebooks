{
    "cells": [
        {
            "cell_type": "markdown",
            "metadata": {
                "collapsed": true
            },
            "source": "# My Jupyter Notebook on IBM Watson Studio"
        },
        {
            "cell_type": "markdown",
            "metadata": {},
            "source": "#### Arka Seth\nCurrently a Computer Science Junior Undergrad."
        },
        {
            "cell_type": "markdown",
            "metadata": {},
            "source": "*I am interested in Data Science because it is a very fascinating field. The process of extracting meaning from seemingly chaotic data is something really amazing.*"
        },
        {
            "cell_type": "markdown",
            "metadata": {},
            "source": "#### The code prints the sum of first n natural numbers"
        },
        {
            "cell_type": "code",
            "execution_count": 3,
            "metadata": {},
            "outputs": [
                {
                    "name": "stdout",
                    "output_type": "stream",
                    "text": "5050\n"
                }
            ],
            "source": "print(100*101//2)"
        },
        {
            "cell_type": "markdown",
            "metadata": {},
            "source": "Horizontal Rule:\n\n---\n\nBulleted list:\n\n* Hello\n* World\n\nOrdered list:\n\n1. Hey\n2. Fellas\n\nTable:\n\n| Col1            | Col2          | Col3       |\n| -------------: |:-------------:| :-----:    |\n| Row1            | Row One       | First row  |\n| Row2            | Row Two       | Second row |\n\nHyperlink:\n\n[Link to Google](https://google.com)\n\nImage:\n\n![Logo from GitHub](https://github.com/adam-p/markdown-here/raw/master/src/common/images/icon48.png \"From Markdown Cheatsheet\")\n\nThe code from above:\n\n```python\nprint(100*101//2)\n```\n\nBlockquote:\n\n> Some useful blockquote here\n\nStrikethrough:\n\n~~No.~~"
        },
        {
            "cell_type": "code",
            "execution_count": null,
            "metadata": {},
            "outputs": [],
            "source": ""
        }
    ],
    "metadata": {
        "kernelspec": {
            "display_name": "Python 3.7",
            "language": "python",
            "name": "python3"
        },
        "language_info": {
            "codemirror_mode": {
                "name": "ipython",
                "version": 3
            },
            "file_extension": ".py",
            "mimetype": "text/x-python",
            "name": "python",
            "nbconvert_exporter": "python",
            "pygments_lexer": "ipython3",
            "version": "3.7.10"
        }
    },
    "nbformat": 4,
    "nbformat_minor": 1
}